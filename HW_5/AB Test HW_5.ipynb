{
 "cells": [
  {
   "cell_type": "markdown",
   "id": "e6708a25",
   "metadata": {},
   "source": [
    "### Задание 1\n",
    "1)Вы провели эксперимент c упрощением формы заказа в магазине Утконос и получили результаты по метрике конверсий в покупку. Выберите метод оценки и оцените есть ли стат.значимые различия между конверсиями в двух группах при alpha = 5%. Дайте краткие рекомендации команде .\n",
    "\n",
    "Результаты: \n",
    "\n",
    "1) Число юзеров в группах , которые заходили на сайт в период эксперимента: n1 = 15550 и n2 = 15550 . \n",
    "\n",
    "2) Число юзеров в группах , которые совершили хотя бы одну покупку за период эксперимента: n1 = 164 и n2 = 228 \n",
    "\n",
    "3) Конверсии : conv1 = 1.05% conv2 = 1.47% ."
   ]
  },
  {
   "cell_type": "code",
   "execution_count": 9,
   "id": "c3188a44",
   "metadata": {},
   "outputs": [],
   "source": [
    "import numpy as np\n",
    "import pandas as pd \n",
    "from scipy import stats"
   ]
  },
  {
   "cell_type": "markdown",
   "id": "9a290b05",
   "metadata": {},
   "source": [
    "Нулевая гипотеза H0: p1 = p2; Альтернативная гипогтеза H1: p1 != p2"
   ]
  },
  {
   "cell_type": "markdown",
   "id": "bd48dc8e",
   "metadata": {},
   "source": [
    "Проверим предположение о том что выборки незаисимы и выполняются условия: np >= 5; nq >= 5"
   ]
  },
  {
   "cell_type": "code",
   "execution_count": 6,
   "id": "91109ea2",
   "metadata": {},
   "outputs": [
    {
     "name": "stdout",
     "output_type": "stream",
     "text": [
      "392.0\n",
      "0.012604501607717042\n"
     ]
    }
   ],
   "source": [
    "n = 31100\n",
    "n1 = 15550\n",
    "n2 = 15550\n",
    "m1 = 164\n",
    "m2 = 228\n",
    "p = (m1 + m2)/(n1 + n2)\n",
    "print(n*p)"
   ]
  },
  {
   "cell_type": "code",
   "execution_count": 5,
   "id": "3a0a0241",
   "metadata": {},
   "outputs": [
    {
     "name": "stdout",
     "output_type": "stream",
     "text": [
      "30708.0\n"
     ]
    }
   ],
   "source": [
    "q = 1 - p\n",
    "print(n*q)"
   ]
  },
  {
   "cell_type": "markdown",
   "id": "facd5675",
   "metadata": {},
   "source": [
    "Для оценки двух независимых групп будем использовать Z-критерий. Так как сравнивать будем доли, расчетное значениие Z получим по формуле:"
   ]
  },
  {
   "cell_type": "markdown",
   "id": "edf60f11",
   "metadata": {},
   "source": [
    "Z = ((p1 - p2) - 1/2*(1/n1 + 1/n2))/(np.sqrt(p*(1 - p) * (1/n1 + 1/n2)))"
   ]
  },
  {
   "cell_type": "code",
   "execution_count": 11,
   "id": "331b60de",
   "metadata": {},
   "outputs": [
    {
     "name": "stdout",
     "output_type": "stream",
     "text": [
      "-3.3038837027383834\n"
     ]
    }
   ],
   "source": [
    "p1 = m1/n1\n",
    "p2 = m2/n2\n",
    "Z = ((p1 - p2) - 1/2*(1/n1 + 1/n2))/(np.sqrt(p*(1 - p) * (1/n1 + 1/n2)))\n",
    "print(Z)"
   ]
  },
  {
   "cell_type": "markdown",
   "id": "5eb5c259",
   "metadata": {},
   "source": [
    "Найдем табличное значение Z(для 1 - alpha/2 = 0.975) = 1.96. Так тест двусторонний, критическая область составляет (-inf; -1.96) и (1.96; inf). Так как наше критическое значение попадает в критическую область то мы отвергаем нулевую гипотезу и принимаем H1, то есть статистически значимые различия есть."
   ]
  },
  {
   "cell_type": "markdown",
   "id": "e5c18aa9",
   "metadata": {},
   "source": [
    "### Задача 2\n",
    "Сравниваем метрику конверсия в покупку. Размер выборки - 10000 элементов в каждой группе . Какой статистический критерий тут лучше всего подойдёт и почему ?"
   ]
  },
  {
   "cell_type": "code",
   "execution_count": null,
   "id": "c93be768",
   "metadata": {},
   "outputs": [],
   "source": [
    "Лучше использовать Z-критерий, так как рамзер выборки достаточно большой и мы можем посчитать дисперсию совокупности."
   ]
  }
 ],
 "metadata": {
  "kernelspec": {
   "display_name": "Python 3 (ipykernel)",
   "language": "python",
   "name": "python3"
  },
  "language_info": {
   "codemirror_mode": {
    "name": "ipython",
    "version": 3
   },
   "file_extension": ".py",
   "mimetype": "text/x-python",
   "name": "python",
   "nbconvert_exporter": "python",
   "pygments_lexer": "ipython3",
   "version": "3.10.9"
  }
 },
 "nbformat": 4,
 "nbformat_minor": 5
}
