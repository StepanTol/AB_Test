{
 "cells": [
  {
   "cell_type": "markdown",
   "id": "7bda71fe",
   "metadata": {},
   "source": [
    "Для задачи один получили количество посетителей для каждой из групп 77858, общее количество пользователей равно 77858 * 2 = 155716. Значит количество дней которые должен длиться тест равно 155716/20000 = 7.7858(получается 8 дней).\n",
    "\n",
    "Для второй задачи получили количество пользователей для каждой группы 592, общее - 1184. При  средней посещаемости в 4000 человек в день, получаеся что хватит одного дня для проведения теста. "
   ]
  }
 ],
 "metadata": {
  "kernelspec": {
   "display_name": "Python 3 (ipykernel)",
   "language": "python",
   "name": "python3"
  },
  "language_info": {
   "codemirror_mode": {
    "name": "ipython",
    "version": 3
   },
   "file_extension": ".py",
   "mimetype": "text/x-python",
   "name": "python",
   "nbconvert_exporter": "python",
   "pygments_lexer": "ipython3",
   "version": "3.10.9"
  }
 },
 "nbformat": 4,
 "nbformat_minor": 5
}
